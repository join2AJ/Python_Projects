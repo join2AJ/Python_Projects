{
 "cells": [
  {
   "cell_type": "markdown",
   "id": "10d49bbe",
   "metadata": {
    "papermill": {
     "duration": 0.039757,
     "end_time": "2022-01-23T08:54:49.819013",
     "exception": false,
     "start_time": "2022-01-23T08:54:49.779256",
     "status": "completed"
    },
    "tags": []
   },
   "source": [
    "<img src=https://a-static.projektn.sk/2020/11/Startup.jpg>"
   ]
  },
  {
   "cell_type": "markdown",
   "id": "244a8284",
   "metadata": {
    "papermill": {
     "duration": 0.046063,
     "end_time": "2022-01-23T08:54:49.903914",
     "exception": false,
     "start_time": "2022-01-23T08:54:49.857851",
     "status": "completed"
    },
    "tags": []
   },
   "source": [
    "# Startup Profit Prediction"
   ]
  },
  {
   "cell_type": "markdown",
   "id": "df71ac2e",
   "metadata": {
    "papermill": {
     "duration": 0.047006,
     "end_time": "2022-01-23T08:54:50.027281",
     "exception": false,
     "start_time": "2022-01-23T08:54:49.980275",
     "status": "completed"
    },
    "tags": []
   },
   "source": [
    "# 1. Reading and Understanding the Data"
   ]
  },
  {
   "cell_type": "code",
   "execution_count": 1,
   "id": "213d058c",
   "metadata": {
    "execution": {
     "iopub.execute_input": "2022-01-23T08:54:50.121710Z",
     "iopub.status.busy": "2022-01-23T08:54:50.120916Z",
     "iopub.status.idle": "2022-01-23T08:54:51.807581Z",
     "shell.execute_reply": "2022-01-23T08:54:51.806759Z",
     "shell.execute_reply.started": "2022-01-23T08:52:21.596716Z"
    },
    "papermill": {
     "duration": 1.74,
     "end_time": "2022-01-23T08:54:51.807807",
     "exception": false,
     "start_time": "2022-01-23T08:54:50.067807",
     "status": "completed"
    },
    "tags": []
   },
   "outputs": [],
   "source": [
    "#basic libraries and visualization\n",
    "import pandas as pd\n",
    "import numpy as np\n",
    "import matplotlib.pyplot as plt\n",
    "import seaborn as sns\n",
    "#statmodels\n",
    "import statsmodels.api as sm\n",
    "from statsmodels.stats.outliers_influence import variance_inflation_factor\n",
    "#sklearn-dataprocessing\n",
    "from sklearn.model_selection import train_test_split, cross_val_score, GridSearchCV\n",
    "from sklearn.feature_selection import f_regression\n",
    "from sklearn.compose import ColumnTransformer\n",
    "from sklearn.preprocessing import PolynomialFeatures, StandardScaler, OneHotEncoder\n",
    "from sklearn.metrics import r2_score, mean_squared_error\n",
    "#sklearn-models\n",
    "from sklearn.linear_model import LinearRegression, Ridge\n",
    "from sklearn.svm import SVR\n",
    "from sklearn.tree import DecisionTreeRegressor\n",
    "from sklearn.ensemble import RandomForestRegressor"
   ]
  },
  {
   "cell_type": "code",
   "execution_count": 2,
   "id": "ff32f359",
   "metadata": {
    "execution": {
     "iopub.execute_input": "2022-01-23T08:54:51.952954Z",
     "iopub.status.busy": "2022-01-23T08:54:51.952243Z",
     "iopub.status.idle": "2022-01-23T08:54:51.954330Z",
     "shell.execute_reply": "2022-01-23T08:54:51.953673Z",
     "shell.execute_reply.started": "2022-01-23T08:52:21.608077Z"
    },
    "papermill": {
     "duration": 0.076636,
     "end_time": "2022-01-23T08:54:51.954483",
     "exception": false,
     "start_time": "2022-01-23T08:54:51.877847",
     "status": "completed"
    },
    "tags": []
   },
   "outputs": [],
   "source": [
    "import warnings\n",
    "warnings.filterwarnings('ignore')"
   ]
  },
  {
   "cell_type": "code",
   "execution_count": 3,
   "id": "c9c2aa57",
   "metadata": {
    "execution": {
     "iopub.execute_input": "2022-01-23T08:54:52.071486Z",
     "iopub.status.busy": "2022-01-23T08:54:52.070733Z",
     "iopub.status.idle": "2022-01-23T08:54:52.073143Z",
     "shell.execute_reply": "2022-01-23T08:54:52.072741Z",
     "shell.execute_reply.started": "2022-01-23T08:52:21.631307Z"
    },
    "papermill": {
     "duration": 0.052301,
     "end_time": "2022-01-23T08:54:52.073254",
     "exception": false,
     "start_time": "2022-01-23T08:54:52.020953",
     "status": "completed"
    },
    "tags": []
   },
   "outputs": [],
   "source": [
    "sns.set_theme(style='darkgrid', palette='Accent')\n",
    "pd.options.display.float_format = '{:,.2f}'.format"
   ]
  },
  {
   "cell_type": "markdown",
   "id": "bd937924",
   "metadata": {
    "papermill": {
     "duration": 0.03807,
     "end_time": "2022-01-23T08:54:52.150609",
     "exception": false,
     "start_time": "2022-01-23T08:54:52.112539",
     "status": "completed"
    },
    "tags": []
   },
   "source": [
    "**About the dataset:**\n",
    "\n",
    "This dataset has data collected from New York, California and Florida about 50 business Startups. \n",
    "The variables used in the dataset are Profit, R&D spending(research and development), Administration Spending, and Marketing Spending.\n"
   ]
  },
  {
   "cell_type": "code",
   "execution_count": 4,
   "id": "74ff6408",
   "metadata": {
    "execution": {
     "iopub.execute_input": "2022-01-23T08:54:52.232902Z",
     "iopub.status.busy": "2022-01-23T08:54:52.232336Z",
     "iopub.status.idle": "2022-01-23T08:54:52.239238Z",
     "shell.execute_reply": "2022-01-23T08:54:52.239658Z",
     "shell.execute_reply.started": "2022-01-23T08:52:21.652444Z"
    },
    "papermill": {
     "duration": 0.050598,
     "end_time": "2022-01-23T08:54:52.239795",
     "exception": false,
     "start_time": "2022-01-23T08:54:52.189197",
     "status": "completed"
    },
    "tags": []
   },
   "outputs": [
    {
     "name": "stdout",
     "output_type": "stream",
     "text": [
      "/kaggle/input/d/farhanmd29/50-startups/50_Startups.csv\n"
     ]
    }
   ],
   "source": [
    "import os\n",
    "for dirname, _, filenames in os.walk('/kaggle/input'):\n",
    "    for filename in filenames:\n",
    "        print(os.path.join(dirname, filename))"
   ]
  },
  {
   "cell_type": "code",
   "execution_count": 5,
   "id": "5edc55d4",
   "metadata": {
    "execution": {
     "iopub.execute_input": "2022-01-23T08:54:52.322939Z",
     "iopub.status.busy": "2022-01-23T08:54:52.322348Z",
     "iopub.status.idle": "2022-01-23T08:54:52.343957Z",
     "shell.execute_reply": "2022-01-23T08:54:52.344367Z",
     "shell.execute_reply.started": "2022-01-23T08:52:21.676856Z"
    },
    "papermill": {
     "duration": 0.065133,
     "end_time": "2022-01-23T08:54:52.344503",
     "exception": false,
     "start_time": "2022-01-23T08:54:52.279370",
     "status": "completed"
    },
    "tags": []
   },
   "outputs": [
    {
     "data": {
      "text/html": [
       "<div>\n",
       "<style scoped>\n",
       "    .dataframe tbody tr th:only-of-type {\n",
       "        vertical-align: middle;\n",
       "    }\n",
       "\n",
       "    .dataframe tbody tr th {\n",
       "        vertical-align: top;\n",
       "    }\n",
       "\n",
       "    .dataframe thead th {\n",
       "        text-align: right;\n",
       "    }\n",
       "</style>\n",
       "<table border=\"1\" class=\"dataframe\">\n",
       "  <thead>\n",
       "    <tr style=\"text-align: right;\">\n",
       "      <th></th>\n",
       "      <th>R&amp;D Spend</th>\n",
       "      <th>Administration</th>\n",
       "      <th>Marketing Spend</th>\n",
       "      <th>State</th>\n",
       "      <th>Profit</th>\n",
       "    </tr>\n",
       "  </thead>\n",
       "  <tbody>\n",
       "    <tr>\n",
       "      <th>0</th>\n",
       "      <td>165,349.20</td>\n",
       "      <td>136,897.80</td>\n",
       "      <td>471,784.10</td>\n",
       "      <td>New York</td>\n",
       "      <td>192,261.83</td>\n",
       "    </tr>\n",
       "    <tr>\n",
       "      <th>1</th>\n",
       "      <td>162,597.70</td>\n",
       "      <td>151,377.59</td>\n",
       "      <td>443,898.53</td>\n",
       "      <td>California</td>\n",
       "      <td>191,792.06</td>\n",
       "    </tr>\n",
       "    <tr>\n",
       "      <th>2</th>\n",
       "      <td>153,441.51</td>\n",
       "      <td>101,145.55</td>\n",
       "      <td>407,934.54</td>\n",
       "      <td>Florida</td>\n",
       "      <td>191,050.39</td>\n",
       "    </tr>\n",
       "    <tr>\n",
       "      <th>3</th>\n",
       "      <td>144,372.41</td>\n",
       "      <td>118,671.85</td>\n",
       "      <td>383,199.62</td>\n",
       "      <td>New York</td>\n",
       "      <td>182,901.99</td>\n",
       "    </tr>\n",
       "    <tr>\n",
       "      <th>4</th>\n",
       "      <td>142,107.34</td>\n",
       "      <td>91,391.77</td>\n",
       "      <td>366,168.42</td>\n",
       "      <td>Florida</td>\n",
       "      <td>166,187.94</td>\n",
       "    </tr>\n",
       "  </tbody>\n",
       "</table>\n",
       "</div>"
      ],
      "text/plain": [
       "   R&D Spend  Administration  Marketing Spend       State     Profit\n",
       "0 165,349.20      136,897.80       471,784.10    New York 192,261.83\n",
       "1 162,597.70      151,377.59       443,898.53  California 191,792.06\n",
       "2 153,441.51      101,145.55       407,934.54     Florida 191,050.39\n",
       "3 144,372.41      118,671.85       383,199.62    New York 182,901.99\n",
       "4 142,107.34       91,391.77       366,168.42     Florida 166,187.94"
      ]
     },
     "execution_count": 5,
     "metadata": {},
     "output_type": "execute_result"
    }
   ],
   "source": [
    "startups = pd.read_csv(\"/kaggle/input/d/farhanmd29/50-startups/50_Startups.csv\")\n",
    "startups.head()"
   ]
  },
  {
   "cell_type": "code",
   "execution_count": 6,
   "id": "3aa5165a",
   "metadata": {
    "execution": {
     "iopub.execute_input": "2022-01-23T08:54:52.430845Z",
     "iopub.status.busy": "2022-01-23T08:54:52.429740Z",
     "iopub.status.idle": "2022-01-23T08:54:52.432559Z",
     "shell.execute_reply": "2022-01-23T08:54:52.432968Z",
     "shell.execute_reply.started": "2022-01-23T08:52:21.715508Z"
    },
    "papermill": {
     "duration": 0.048871,
     "end_time": "2022-01-23T08:54:52.433105",
     "exception": false,
     "start_time": "2022-01-23T08:54:52.384234",
     "status": "completed"
    },
    "tags": []
   },
   "outputs": [
    {
     "data": {
      "text/plain": [
       "(50, 5)"
      ]
     },
     "execution_count": 6,
     "metadata": {},
     "output_type": "execute_result"
    }
   ],
   "source": [
    "startups.shape"
   ]
  },
  {
   "cell_type": "code",
   "execution_count": 7,
   "id": "f182581f",
   "metadata": {
    "execution": {
     "iopub.execute_input": "2022-01-23T08:54:52.530941Z",
     "iopub.status.busy": "2022-01-23T08:54:52.530363Z",
     "iopub.status.idle": "2022-01-23T08:54:52.533341Z",
     "shell.execute_reply": "2022-01-23T08:54:52.533770Z",
     "shell.execute_reply.started": "2022-01-23T08:52:21.725785Z"
    },
    "papermill": {
     "duration": 0.061448,
     "end_time": "2022-01-23T08:54:52.533900",
     "exception": false,
     "start_time": "2022-01-23T08:54:52.472452",
     "status": "completed"
    },
    "tags": []
   },
   "outputs": [
    {
     "name": "stdout",
     "output_type": "stream",
     "text": [
      "<class 'pandas.core.frame.DataFrame'>\n",
      "RangeIndex: 50 entries, 0 to 49\n",
      "Data columns (total 5 columns):\n",
      " #   Column           Non-Null Count  Dtype  \n",
      "---  ------           --------------  -----  \n",
      " 0   R&D Spend        50 non-null     float64\n",
      " 1   Administration   50 non-null     float64\n",
      " 2   Marketing Spend  50 non-null     float64\n",
      " 3   State            50 non-null     object \n",
      " 4   Profit           50 non-null     float64\n",
      "dtypes: float64(4), object(1)\n",
      "memory usage: 2.1+ KB\n"
     ]
    }
   ],
   "source": [
    "startups.info()"
   ]
  },
  {
   "cell_type": "code",
   "execution_count": 8,
   "id": "ec2af381",
   "metadata": {
    "execution": {
     "iopub.execute_input": "2022-01-23T08:54:52.621065Z",
     "iopub.status.busy": "2022-01-23T08:54:52.620441Z",
     "iopub.status.idle": "2022-01-23T08:54:52.623047Z",
     "shell.execute_reply": "2022-01-23T08:54:52.623449Z",
     "shell.execute_reply.started": "2022-01-23T08:52:21.761839Z"
    },
    "papermill": {
     "duration": 0.049662,
     "end_time": "2022-01-23T08:54:52.623574",
     "exception": false,
     "start_time": "2022-01-23T08:54:52.573912",
     "status": "completed"
    },
    "tags": []
   },
   "outputs": [
    {
     "data": {
      "text/plain": [
       "R&D Spend          0\n",
       "Administration     0\n",
       "Marketing Spend    0\n",
       "State              0\n",
       "Profit             0\n",
       "dtype: int64"
      ]
     },
     "execution_count": 8,
     "metadata": {},
     "output_type": "execute_result"
    }
   ],
   "source": [
    "startups.isnull().sum()"
   ]
  },
  {
   "cell_type": "code",
   "execution_count": 9,
   "id": "a62f3652",
   "metadata": {
    "execution": {
     "iopub.execute_input": "2022-01-23T08:54:52.713310Z",
     "iopub.status.busy": "2022-01-23T08:54:52.712155Z",
     "iopub.status.idle": "2022-01-23T08:54:52.715273Z",
     "shell.execute_reply": "2022-01-23T08:54:52.715659Z",
     "shell.execute_reply.started": "2022-01-23T08:52:21.803622Z"
    },
    "papermill": {
     "duration": 0.052113,
     "end_time": "2022-01-23T08:54:52.715800",
     "exception": false,
     "start_time": "2022-01-23T08:54:52.663687",
     "status": "completed"
    },
    "tags": []
   },
   "outputs": [
    {
     "data": {
      "text/plain": [
       "False"
      ]
     },
     "execution_count": 9,
     "metadata": {},
     "output_type": "execute_result"
    }
   ],
   "source": [
    "startups.duplicated().any()"
   ]
  },
  {
   "cell_type": "code",
   "execution_count": 10,
   "id": "965a3c80",
   "metadata": {
    "execution": {
     "iopub.execute_input": "2022-01-23T08:54:52.817567Z",
     "iopub.status.busy": "2022-01-23T08:54:52.804498Z",
     "iopub.status.idle": "2022-01-23T08:54:52.820354Z",
     "shell.execute_reply": "2022-01-23T08:54:52.820786Z",
     "shell.execute_reply.started": "2022-01-23T08:52:21.825854Z"
    },
    "papermill": {
     "duration": 0.064647,
     "end_time": "2022-01-23T08:54:52.820936",
     "exception": false,
     "start_time": "2022-01-23T08:54:52.756289",
     "status": "completed"
    },
    "tags": []
   },
   "outputs": [
    {
     "data": {
      "text/html": [
       "<div>\n",
       "<style scoped>\n",
       "    .dataframe tbody tr th:only-of-type {\n",
       "        vertical-align: middle;\n",
       "    }\n",
       "\n",
       "    .dataframe tbody tr th {\n",
       "        vertical-align: top;\n",
       "    }\n",
       "\n",
       "    .dataframe thead th {\n",
       "        text-align: right;\n",
       "    }\n",
       "</style>\n",
       "<table border=\"1\" class=\"dataframe\">\n",
       "  <thead>\n",
       "    <tr style=\"text-align: right;\">\n",
       "      <th></th>\n",
       "      <th>R&amp;D Spend</th>\n",
       "      <th>Administration</th>\n",
       "      <th>Marketing Spend</th>\n",
       "      <th>Profit</th>\n",
       "    </tr>\n",
       "  </thead>\n",
       "  <tbody>\n",
       "    <tr>\n",
       "      <th>count</th>\n",
       "      <td>50.00</td>\n",
       "      <td>50.00</td>\n",
       "      <td>50.00</td>\n",
       "      <td>50.00</td>\n",
       "    </tr>\n",
       "    <tr>\n",
       "      <th>mean</th>\n",
       "      <td>73,721.62</td>\n",
       "      <td>121,344.64</td>\n",
       "      <td>211,025.10</td>\n",
       "      <td>112,012.64</td>\n",
       "    </tr>\n",
       "    <tr>\n",
       "      <th>std</th>\n",
       "      <td>45,902.26</td>\n",
       "      <td>28,017.80</td>\n",
       "      <td>122,290.31</td>\n",
       "      <td>40,306.18</td>\n",
       "    </tr>\n",
       "    <tr>\n",
       "      <th>min</th>\n",
       "      <td>0.00</td>\n",
       "      <td>51,283.14</td>\n",
       "      <td>0.00</td>\n",
       "      <td>14,681.40</td>\n",
       "    </tr>\n",
       "    <tr>\n",
       "      <th>25%</th>\n",
       "      <td>39,936.37</td>\n",
       "      <td>103,730.88</td>\n",
       "      <td>129,300.13</td>\n",
       "      <td>90,138.90</td>\n",
       "    </tr>\n",
       "    <tr>\n",
       "      <th>50%</th>\n",
       "      <td>73,051.08</td>\n",
       "      <td>122,699.79</td>\n",
       "      <td>212,716.24</td>\n",
       "      <td>107,978.19</td>\n",
       "    </tr>\n",
       "    <tr>\n",
       "      <th>75%</th>\n",
       "      <td>101,602.80</td>\n",
       "      <td>144,842.18</td>\n",
       "      <td>299,469.08</td>\n",
       "      <td>139,765.98</td>\n",
       "    </tr>\n",
       "    <tr>\n",
       "      <th>max</th>\n",
       "      <td>165,349.20</td>\n",
       "      <td>182,645.56</td>\n",
       "      <td>471,784.10</td>\n",
       "      <td>192,261.83</td>\n",
       "    </tr>\n",
       "  </tbody>\n",
       "</table>\n",
       "</div>"
      ],
      "text/plain": [
       "       R&D Spend  Administration  Marketing Spend     Profit\n",
       "count      50.00           50.00            50.00      50.00\n",
       "mean   73,721.62      121,344.64       211,025.10 112,012.64\n",
       "std    45,902.26       28,017.80       122,290.31  40,306.18\n",
       "min         0.00       51,283.14             0.00  14,681.40\n",
       "25%    39,936.37      103,730.88       129,300.13  90,138.90\n",
       "50%    73,051.08      122,699.79       212,716.24 107,978.19\n",
       "75%   101,602.80      144,842.18       299,469.08 139,765.98\n",
       "max   165,349.20      182,645.56       471,784.10 192,261.83"
      ]
     },
     "execution_count": 10,
     "metadata": {},
     "output_type": "execute_result"
    }
   ],
   "source": [
    "startups.describe()"
   ]
  },
  {
   "cell_type": "markdown",
   "id": "01bca3f5",
   "metadata": {
    "papermill": {
     "duration": 0.04089,
     "end_time": "2022-01-23T08:54:52.903535",
     "exception": false,
     "start_time": "2022-01-23T08:54:52.862645",
     "status": "completed"
    },
    "tags": []
   },
   "source": [
    "# 2. EDA"
   ]
  },
  {
   "cell_type": "markdown",
   "id": "a7cfab4b",
   "metadata": {
    "papermill": {
     "duration": 0.040799,
     "end_time": "2022-01-23T08:54:52.986036",
     "exception": false,
     "start_time": "2022-01-23T08:54:52.945237",
     "status": "completed"
    },
    "tags": []
   },
   "source": [
    "## Checking for outliers"
   ]
  },
  {
   "cell_type": "code",
   "execution_count": 11,
   "id": "6fdb6745",
   "metadata": {
    "execution": {
     "iopub.execute_input": "2022-01-23T08:54:53.074128Z",
     "iopub.status.busy": "2022-01-23T08:54:53.073481Z",
     "iopub.status.idle": "2022-01-23T08:54:53.076173Z",
     "shell.execute_reply": "2022-01-23T08:54:53.076642Z",
     "shell.execute_reply.started": "2022-01-23T08:52:21.861845Z"
    },
    "papermill": {
     "duration": 0.049426,
     "end_time": "2022-01-23T08:54:53.076788",
     "exception": false,
     "start_time": "2022-01-23T08:54:53.027362",
     "status": "completed"
    },
    "tags": []
   },
   "outputs": [
    {
     "data": {
      "text/plain": [
       "array(['R&D Spend', 'Administration', 'Marketing Spend', 'State',\n",
       "       'Profit'], dtype=object)"
      ]
     },
     "execution_count": 11,
     "metadata": {},
     "output_type": "execute_result"
    }
   ],
   "source": [
    "startups.columns.values"
   ]
  },
  {
   "cell_type": "code",
   "execution_count": 12,
   "id": "161104ab",
   "metadata": {
    "execution": {
     "iopub.execute_input": "2022-01-23T08:54:53.169727Z",
     "iopub.status.busy": "2022-01-23T08:54:53.168884Z",
     "iopub.status.idle": "2022-01-23T08:54:53.406986Z",
     "shell.execute_reply": "2022-01-23T08:54:53.406481Z",
     "shell.execute_reply.started": "2022-01-23T08:52:21.875241Z"
    },
    "papermill": {
     "duration": 0.288432,
     "end_time": "2022-01-23T08:54:53.407122",
     "exception": false,
     "start_time": "2022-01-23T08:54:53.118690",
     "status": "completed"
    },
    "tags": []
   },
   "outputs": [
    {
     "data": {
      "text/plain": [
       "<AxesSubplot:>"
      ]
     },
     "execution_count": 12,
     "metadata": {},
     "output_type": "execute_result"
    },
    {
     "data": {
      "image/png": "[encoded data removed]",
      "text/plain": [
       "<Figure size 432x288 with 1 Axes>"
      ]
     },
     "metadata": {},
     "output_type": "display_data"
    }
   ],
   "source": [
    "sns.boxplot(data=startups)"
   ]
  },
  {
   "cell_type": "code",
   "execution_count": 13,
   "id": "c275470d",
   "metadata": {
    "execution": {
     "iopub.execute_input": "2022-01-23T08:54:53.500462Z",
     "iopub.status.busy": "2022-01-23T08:54:53.498682Z",
     "iopub.status.idle": "2022-01-23T08:54:53.501161Z",
     "shell.execute_reply": "2022-01-23T08:54:53.501578Z",
     "shell.execute_reply.started": "2022-01-23T08:52:22.108287Z"
    },
    "papermill": {
     "duration": 0.051691,
     "end_time": "2022-01-23T08:54:53.501753",
     "exception": false,
     "start_time": "2022-01-23T08:54:53.450062",
     "status": "completed"
    },
    "tags": []
   },
   "outputs": [],
   "source": [
    "# We can see that in the Profit column we have an outlier. Since we have a small dataset, this could be a problem\n",
    "# in predicting the profit, hence, we are going to remove this outlier.\n",
    "Q3, Q1 = np.percentile(startups[\"Profit\"], [75 ,25])\n",
    "IQR = Q3 - Q1\n",
    "startups = startups[~(startups.Profit< (Q1 - 1.5*IQR))]"
   ]
  },
  {
   "cell_type": "markdown",
   "id": "b9c8fd78",
   "metadata": {
    "papermill": {
     "duration": 0.041662,
     "end_time": "2022-01-23T08:54:53.587404",
     "exception": false,
     "start_time": "2022-01-23T08:54:53.545742",
     "status": "completed"
    },
    "tags": []
   },
   "source": [
    "## Visualising Numerical Variables"
   ]
  },
  {
   "cell_type": "code",
   "execution_count": 14,
   "id": "93af0942",
   "metadata": {
    "execution": {
     "iopub.execute_input": "2022-01-23T08:54:53.787657Z",
     "iopub.status.busy": "2022-01-23T08:54:53.786557Z",
     "iopub.status.idle": "2022-01-23T08:54:57.326409Z",
     "shell.execute_reply": "2022-01-23T08:54:57.326897Z",
     "shell.execute_reply.started": "2022-01-23T08:52:22.121179Z"
    },
    "papermill": {
     "duration": 3.697823,
     "end_time": "2022-01-23T08:54:57.327065",
     "exception": false,
     "start_time": "2022-01-23T08:54:53.629242",
     "status": "completed"
    },
    "scrolled": true,
    "tags": []
   },
   "outputs": [
    {
     "data": {
      "image/png": "[encoded data removed]",
      "text/plain": [
       "<Figure size 720x720 with 20 Axes>"
      ]
     },
     "metadata": {},
     "output_type": "display_data"
    }
   ],
   "source": [
    "sns.pairplot(startups[['R&D Spend', 'Administration', 'Marketing Spend', 'Profit']], kind=\"reg\", diag_kind=\"kde\")\n",
    "plt.show()"
   ]
  },
  {
   "cell_type": "markdown",
   "id": "d47106ca",
   "metadata": {
    "papermill": {
     "duration": 0.044839,
     "end_time": "2022-01-23T08:54:57.417488",
     "exception": false,
     "start_time": "2022-01-23T08:54:57.372649",
     "status": "completed"
    },
    "tags": []
   },
   "source": [
    "**Insights:**\n",
    "\n",
    "1. We can see normal distributions of numerical variables. \n",
    "\n",
    "2. R&D Spend and Marketing Spend are in linear relation with target variable."
   ]
  },
  {
   "cell_type": "markdown",
   "id": "85a7d5a1",
   "metadata": {
    "papermill": {
     "duration": 0.044847,
     "end_time": "2022-01-23T08:54:57.506873",
     "exception": false,
     "start_time": "2022-01-23T08:54:57.462026",
     "status": "completed"
    },
    "tags": []
   },
   "source": [
    "### Profit Distribution"
   ]
  },
  {
   "cell_type": "code",
   "execution_count": 15,
   "id": "20dc5924",
   "metadata": {
    "execution": {
     "iopub.execute_input": "2022-01-23T08:54:57.611015Z",
     "iopub.status.busy": "2022-01-23T08:54:57.610183Z",
     "iopub.status.idle": "2022-01-23T08:54:57.878769Z",
     "shell.execute_reply": "2022-01-23T08:54:57.879189Z",
     "shell.execute_reply.started": "2022-01-23T08:52:26.388898Z"
    },
    "papermill": {
     "duration": 0.327294,
     "end_time": "2022-01-23T08:54:57.879334",
     "exception": false,
     "start_time": "2022-01-23T08:54:57.552040",
     "status": "completed"
    },
    "tags": []
   },
   "outputs": [
    {
     "data": {
      "image/png": "[encoded data removed]",
      "text/plain": [
       "<Figure size 432x288 with 1 Axes>"
      ]
     },
     "metadata": {},
     "output_type": "display_data"
    }
   ],
   "source": [
    "sns.distplot(startups[\"Profit\"], bins=30)\n",
    "plt.show()"
   ]
  },
  {
   "cell_type": "markdown",
   "id": "e0a017a4",
   "metadata": {
    "papermill": {
     "duration": 0.045369,
     "end_time": "2022-01-23T08:54:57.970778",
     "exception": false,
     "start_time": "2022-01-23T08:54:57.925409",
     "status": "completed"
    },
    "tags": []
   },
   "source": [
    "### R&D Spend vs. Profit Correlation"
   ]
  },
  {
   "cell_type": "code",
   "execution_count": 16,
   "id": "3d17f93e",
   "metadata": {
    "execution": {
     "iopub.execute_input": "2022-01-23T08:54:58.077296Z",
     "iopub.status.busy": "2022-01-23T08:54:58.067365Z",
     "iopub.status.idle": "2022-01-23T08:54:58.690434Z",
     "shell.execute_reply": "2022-01-23T08:54:58.690868Z",
     "shell.execute_reply.started": "2022-01-23T08:52:26.688302Z"
    },
    "papermill": {
     "duration": 0.674474,
     "end_time": "2022-01-23T08:54:58.691018",
     "exception": false,
     "start_time": "2022-01-23T08:54:58.016544",
     "status": "completed"
    },
    "tags": []
   },
   "outputs": [
    {
     "data": {
      "image/png": "[encoded data removed]",
      "text/plain": [
       "<Figure size 432x432 with 3 Axes>"
      ]
     },
     "metadata": {},
     "output_type": "display_data"
    }
   ],
   "source": [
    "sns.jointplot(x=startups[\"Profit\"], y=startups[\"R&D Spend\"], kind=\"reg\")\n",
    "plt.show()"
   ]
  },
  {
   "cell_type": "markdown",
   "id": "e7554ee3",
   "metadata": {
    "papermill": {
     "duration": 0.047259,
     "end_time": "2022-01-23T08:54:58.785727",
     "exception": false,
     "start_time": "2022-01-23T08:54:58.738468",
     "status": "completed"
    },
    "tags": []
   },
   "source": [
    "## Visualising Categorical Variables"
   ]
  },
  {
   "cell_type": "code",
   "execution_count": 17,
   "id": "a9ecbd6a",
   "metadata": {
    "execution": {
     "iopub.execute_input": "2022-01-23T08:54:58.919389Z",
     "iopub.status.busy": "2022-01-23T08:54:58.897387Z",
     "iopub.status.idle": "2022-01-23T08:54:59.951304Z",
     "shell.execute_reply": "2022-01-23T08:54:59.951739Z",
     "shell.execute_reply.started": "2022-01-23T08:52:27.721138Z"
    },
    "papermill": {
     "duration": 1.118791,
     "end_time": "2022-01-23T08:54:59.951884",
     "exception": false,
     "start_time": "2022-01-23T08:54:58.833093",
     "status": "completed"
    },
    "tags": []
   },
   "outputs": [
    {
     "data": {
      "image/png": "[encoded data removed]",
      "text/plain": [
       "<Figure size 756x360 with 3 Axes>"
      ]
     },
     "metadata": {},
     "output_type": "display_data"
    }
   ],
   "source": [
    "g=sns.FacetGrid(data=startups, col=\"State\", height=5, aspect=0.7)\n",
    "g.map_dataframe(sns.barplot, palette=\"Accent\")\n",
    "g.set_xticklabels(rotation=45)\n",
    "plt.show()\n"
   ]
  },
  {
   "cell_type": "markdown",
   "id": "171eee8e",
   "metadata": {
    "papermill": {
     "duration": 0.048903,
     "end_time": "2022-01-23T08:55:00.048978",
     "exception": false,
     "start_time": "2022-01-23T08:55:00.000075",
     "status": "completed"
    },
    "tags": []
   },
   "source": [
    "**Insights:**\n",
    "1. Profits and Marketing Spend are higher at Florida than other states.\n",
    "2. R&D Spend and Administration are same for all of the states."
   ]
  },
  {
   "cell_type": "markdown",
   "id": "b68d046c",
   "metadata": {
    "papermill": {
     "duration": 0.048525,
     "end_time": "2022-01-23T08:55:00.145426",
     "exception": false,
     "start_time": "2022-01-23T08:55:00.096901",
     "status": "completed"
    },
    "tags": []
   },
   "source": [
    "#  3. Data Preparation"
   ]
  },
  {
   "cell_type": "code",
   "execution_count": 18,
   "id": "8af333cc",
   "metadata": {
    "execution": {
     "iopub.execute_input": "2022-01-23T08:55:00.245562Z",
     "iopub.status.busy": "2022-01-23T08:55:00.244749Z",
     "iopub.status.idle": "2022-01-23T08:55:00.247140Z",
     "shell.execute_reply": "2022-01-23T08:55:00.246719Z",
     "shell.execute_reply.started": "2022-01-23T08:52:28.940226Z"
    },
    "papermill": {
     "duration": 0.054237,
     "end_time": "2022-01-23T08:55:00.247253",
     "exception": false,
     "start_time": "2022-01-23T08:55:00.193016",
     "status": "completed"
    },
    "tags": []
   },
   "outputs": [],
   "source": [
    "startups_prepared = startups.copy()"
   ]
  },
  {
   "cell_type": "markdown",
   "id": "40dba32a",
   "metadata": {
    "papermill": {
     "duration": 0.048025,
     "end_time": "2022-01-23T08:55:00.343419",
     "exception": false,
     "start_time": "2022-01-23T08:55:00.295394",
     "status": "completed"
    },
    "tags": []
   },
   "source": [
    "## Checking for multicollinearity"
   ]
  },
  {
   "cell_type": "code",
   "execution_count": 19,
   "id": "200bcaff",
   "metadata": {
    "execution": {
     "iopub.execute_input": "2022-01-23T08:55:00.449045Z",
     "iopub.status.busy": "2022-01-23T08:55:00.448133Z",
     "iopub.status.idle": "2022-01-23T08:55:00.457897Z",
     "shell.execute_reply": "2022-01-23T08:55:00.457435Z",
     "shell.execute_reply.started": "2022-01-23T08:52:28.950007Z"
    },
    "papermill": {
     "duration": 0.066559,
     "end_time": "2022-01-23T08:55:00.458011",
     "exception": false,
     "start_time": "2022-01-23T08:55:00.391452",
     "status": "completed"
    },
    "tags": []
   },
   "outputs": [
    {
     "data": {
      "text/html": [
       "<div>\n",
       "<style scoped>\n",
       "    .dataframe tbody tr th:only-of-type {\n",
       "        vertical-align: middle;\n",
       "    }\n",
       "\n",
       "    .dataframe tbody tr th {\n",
       "        vertical-align: top;\n",
       "    }\n",
       "\n",
       "    .dataframe thead th {\n",
       "        text-align: right;\n",
       "    }\n",
       "</style>\n",
       "<table border=\"1\" class=\"dataframe\">\n",
       "  <thead>\n",
       "    <tr style=\"text-align: right;\">\n",
       "      <th></th>\n",
       "      <th>Features</th>\n",
       "      <th>VIF</th>\n",
       "    </tr>\n",
       "  </thead>\n",
       "  <tbody>\n",
       "    <tr>\n",
       "      <th>0</th>\n",
       "      <td>R&amp;D Spend</td>\n",
       "      <td>8.60</td>\n",
       "    </tr>\n",
       "    <tr>\n",
       "      <th>2</th>\n",
       "      <td>Marketing Spend</td>\n",
       "      <td>7.59</td>\n",
       "    </tr>\n",
       "    <tr>\n",
       "      <th>1</th>\n",
       "      <td>Administration</td>\n",
       "      <td>4.22</td>\n",
       "    </tr>\n",
       "  </tbody>\n",
       "</table>\n",
       "</div>"
      ],
      "text/plain": [
       "          Features  VIF\n",
       "0        R&D Spend 8.60\n",
       "2  Marketing Spend 7.59\n",
       "1   Administration 4.22"
      ]
     },
     "execution_count": 19,
     "metadata": {},
     "output_type": "execute_result"
    }
   ],
   "source": [
    "numerical = startups_prepared.drop(columns=[\"State\", \"Profit\"])\n",
    "vif = pd.DataFrame()\n",
    "vif[\"Features\"] = numerical.columns\n",
    "vif[\"VIF\"] = [variance_inflation_factor(numerical.values, i) for i in range(numerical.shape[1])]\n",
    "vif[\"VIF\"] = round(vif[\"VIF\"], 2)\n",
    "vif = vif.sort_values(by = \"VIF\", ascending = False)\n",
    "vif"
   ]
  },
  {
   "cell_type": "markdown",
   "id": "fc841227",
   "metadata": {
    "papermill": {
     "duration": 0.049672,
     "end_time": "2022-01-23T08:55:00.556657",
     "exception": false,
     "start_time": "2022-01-23T08:55:00.506985",
     "status": "completed"
    },
    "tags": []
   },
   "source": [
    "**Insights:**\n",
    "1. VIF scores are higher for R&D and Marketing Spend.\n",
    "2. Since Administration is not so correlated with Profit as other variables, we will consider dropping this variable, which will drive VIF factor down.\n"
   ]
  },
  {
   "cell_type": "markdown",
   "id": "97a23359",
   "metadata": {
    "execution": {
     "iopub.execute_input": "2021-05-19T13:22:30.191571Z",
     "iopub.status.busy": "2021-05-19T13:22:30.190765Z",
     "iopub.status.idle": "2021-05-19T13:22:30.194845Z",
     "shell.execute_reply": "2021-05-19T13:22:30.194293Z"
    },
    "papermill": {
     "duration": 0.065116,
     "end_time": "2022-01-23T08:55:00.670114",
     "exception": false,
     "start_time": "2022-01-23T08:55:00.604998",
     "status": "completed"
    },
    "tags": []
   },
   "source": [
    "## Creating dummy variables"
   ]
  },
  {
   "cell_type": "code",
   "execution_count": 20,
   "id": "007ca64e",
   "metadata": {
    "execution": {
     "iopub.execute_input": "2022-01-23T08:55:00.846107Z",
     "iopub.status.busy": "2022-01-23T08:55:00.845319Z",
     "iopub.status.idle": "2022-01-23T08:55:00.849013Z",
     "shell.execute_reply": "2022-01-23T08:55:00.850360Z",
     "shell.execute_reply.started": "2022-01-23T08:52:28.981265Z"
    },
    "papermill": {
     "duration": 0.094111,
     "end_time": "2022-01-23T08:55:00.850556",
     "exception": false,
     "start_time": "2022-01-23T08:55:00.756445",
     "status": "completed"
    },
    "tags": []
   },
   "outputs": [],
   "source": [
    "startups_prepared = pd.get_dummies(startups_prepared, drop_first=True)\n",
    "startups_prepared.rename(columns={\"R&D Spend\":\"R&D\", \"Marketing Spend\":\"Marketing\", \n",
    "                         \"State_Florida\":\"Florida\", \"State_New York\":\"New York\"}, inplace=True)"
   ]
  },
  {
   "cell_type": "code",
   "execution_count": 21,
   "id": "a1dc9396",
   "metadata": {
    "execution": {
     "iopub.execute_input": "2022-01-23T08:55:01.031223Z",
     "iopub.status.busy": "2022-01-23T08:55:01.030353Z",
     "iopub.status.idle": "2022-01-23T08:55:01.034890Z",
     "shell.execute_reply": "2022-01-23T08:55:01.035911Z",
     "shell.execute_reply.started": "2022-01-23T08:52:28.995630Z"
    },
    "papermill": {
     "duration": 0.100011,
     "end_time": "2022-01-23T08:55:01.036116",
     "exception": false,
     "start_time": "2022-01-23T08:55:00.936105",
     "status": "completed"
    },
    "tags": []
   },
   "outputs": [
    {
     "data": {
      "text/html": [
       "<div>\n",
       "<style scoped>\n",
       "    .dataframe tbody tr th:only-of-type {\n",
       "        vertical-align: middle;\n",
       "    }\n",
       "\n",
       "    .dataframe tbody tr th {\n",
       "        vertical-align: top;\n",
       "    }\n",
       "\n",
       "    .dataframe thead th {\n",
       "        text-align: right;\n",
       "    }\n",
       "</style>\n",
       "<table border=\"1\" class=\"dataframe\">\n",
       "  <thead>\n",
       "    <tr style=\"text-align: right;\">\n",
       "      <th></th>\n",
       "      <th>R&amp;D</th>\n",
       "      <th>Administration</th>\n",
       "      <th>Marketing</th>\n",
       "      <th>Profit</th>\n",
       "      <th>Florida</th>\n",
       "      <th>New York</th>\n",
       "    </tr>\n",
       "  </thead>\n",
       "  <tbody>\n",
       "    <tr>\n",
       "      <th>0</th>\n",
       "      <td>165,349.20</td>\n",
       "      <td>136,897.80</td>\n",
       "      <td>471,784.10</td>\n",
       "      <td>192,261.83</td>\n",
       "      <td>0</td>\n",
       "      <td>1</td>\n",
       "    </tr>\n",
       "    <tr>\n",
       "      <th>1</th>\n",
       "      <td>162,597.70</td>\n",
       "      <td>151,377.59</td>\n",
       "      <td>443,898.53</td>\n",
       "      <td>191,792.06</td>\n",
       "      <td>0</td>\n",
       "      <td>0</td>\n",
       "    </tr>\n",
       "    <tr>\n",
       "      <th>2</th>\n",
       "      <td>153,441.51</td>\n",
       "      <td>101,145.55</td>\n",
       "      <td>407,934.54</td>\n",
       "      <td>191,050.39</td>\n",
       "      <td>1</td>\n",
       "      <td>0</td>\n",
       "    </tr>\n",
       "    <tr>\n",
       "      <th>3</th>\n",
       "      <td>144,372.41</td>\n",
       "      <td>118,671.85</td>\n",
       "      <td>383,199.62</td>\n",
       "      <td>182,901.99</td>\n",
       "      <td>0</td>\n",
       "      <td>1</td>\n",
       "    </tr>\n",
       "    <tr>\n",
       "      <th>4</th>\n",
       "      <td>142,107.34</td>\n",
       "      <td>91,391.77</td>\n",
       "      <td>366,168.42</td>\n",
       "      <td>166,187.94</td>\n",
       "      <td>1</td>\n",
       "      <td>0</td>\n",
       "    </tr>\n",
       "  </tbody>\n",
       "</table>\n",
       "</div>"
      ],
      "text/plain": [
       "         R&D  Administration  Marketing     Profit  Florida  New York\n",
       "0 165,349.20      136,897.80 471,784.10 192,261.83        0         1\n",
       "1 162,597.70      151,377.59 443,898.53 191,792.06        0         0\n",
       "2 153,441.51      101,145.55 407,934.54 191,050.39        1         0\n",
       "3 144,372.41      118,671.85 383,199.62 182,901.99        0         1\n",
       "4 142,107.34       91,391.77 366,168.42 166,187.94        1         0"
      ]
     },
     "execution_count": 21,
     "metadata": {},
     "output_type": "execute_result"
    }
   ],
   "source": [
    "startups_prepared.head()"
   ]
  },
  {
   "cell_type": "markdown",
   "id": "67720e0c",
   "metadata": {
    "papermill": {
     "duration": 0.076064,
     "end_time": "2022-01-23T08:55:01.191906",
     "exception": false,
     "start_time": "2022-01-23T08:55:01.115842",
     "status": "completed"
    },
    "tags": []
   },
   "source": [
    "## Defining input and target variables"
   ]
  },
  {
   "cell_type": "code",
   "execution_count": 22,
   "id": "acf29bce",
   "metadata": {
    "execution": {
     "iopub.execute_input": "2022-01-23T08:55:01.379525Z",
     "iopub.status.busy": "2022-01-23T08:55:01.378610Z",
     "iopub.status.idle": "2022-01-23T08:55:01.380891Z",
     "shell.execute_reply": "2022-01-23T08:55:01.380244Z",
     "shell.execute_reply.started": "2022-01-23T08:52:29.015637Z"
    },
    "papermill": {
     "duration": 0.092031,
     "end_time": "2022-01-23T08:55:01.381051",
     "exception": false,
     "start_time": "2022-01-23T08:55:01.289020",
     "status": "completed"
    },
    "tags": []
   },
   "outputs": [],
   "source": [
    "X = startups_prepared.drop(columns=\"Profit\")\n",
    "y = startups_prepared.Profit"
   ]
  },
  {
   "cell_type": "markdown",
   "id": "8a94bd42",
   "metadata": {
    "papermill": {
     "duration": 0.087628,
     "end_time": "2022-01-23T08:55:01.550665",
     "exception": false,
     "start_time": "2022-01-23T08:55:01.463037",
     "status": "completed"
    },
    "tags": []
   },
   "source": [
    "## Feature selection"
   ]
  },
  {
   "cell_type": "code",
   "execution_count": 23,
   "id": "3af20f70",
   "metadata": {
    "execution": {
     "iopub.execute_input": "2022-01-23T08:55:01.726668Z",
     "iopub.status.busy": "2022-01-23T08:55:01.725789Z",
     "iopub.status.idle": "2022-01-23T08:55:01.736139Z",
     "shell.execute_reply": "2022-01-23T08:55:01.737116Z",
     "shell.execute_reply.started": "2022-01-23T08:52:29.031922Z"
    },
    "papermill": {
     "duration": 0.105152,
     "end_time": "2022-01-23T08:55:01.737300",
     "exception": false,
     "start_time": "2022-01-23T08:55:01.632148",
     "status": "completed"
    },
    "tags": []
   },
   "outputs": [
    {
     "data": {
      "text/html": [
       "<div>\n",
       "<style scoped>\n",
       "    .dataframe tbody tr th:only-of-type {\n",
       "        vertical-align: middle;\n",
       "    }\n",
       "\n",
       "    .dataframe tbody tr th {\n",
       "        vertical-align: top;\n",
       "    }\n",
       "\n",
       "    .dataframe thead tr th {\n",
       "        text-align: left;\n",
       "    }\n",
       "</style>\n",
       "<table border=\"1\" class=\"dataframe\">\n",
       "  <thead>\n",
       "    <tr>\n",
       "      <th></th>\n",
       "      <th>F_statistic</th>\n",
       "      <th>p_value</th>\n",
       "    </tr>\n",
       "  </thead>\n",
       "  <tbody>\n",
       "    <tr>\n",
       "      <th>R&amp;D</th>\n",
       "      <td>1,054.72</td>\n",
       "      <td>0.00</td>\n",
       "    </tr>\n",
       "    <tr>\n",
       "      <th>Administration</th>\n",
       "      <td>2.08</td>\n",
       "      <td>0.16</td>\n",
       "    </tr>\n",
       "    <tr>\n",
       "      <th>Marketing</th>\n",
       "      <td>56.66</td>\n",
       "      <td>0.00</td>\n",
       "    </tr>\n",
       "  </tbody>\n",
       "</table>\n",
       "</div>"
      ],
      "text/plain": [
       "               F_statistic p_value\n",
       "R&D               1,054.72    0.00\n",
       "Administration        2.08    0.16\n",
       "Marketing            56.66    0.00"
      ]
     },
     "execution_count": 23,
     "metadata": {},
     "output_type": "execute_result"
    }
   ],
   "source": [
    "data = f_regression(X[[\"R&D\", \"Administration\", \"Marketing\"]], y)\n",
    "f_df = pd.DataFrame(data, index=[[\"F_statistic\", \"p_value\"]], columns=X[[\"R&D\", \"Administration\", \"Marketing\"]].columns).T\n",
    "f_df"
   ]
  },
  {
   "cell_type": "markdown",
   "id": "53babd24",
   "metadata": {
    "papermill": {
     "duration": 0.048708,
     "end_time": "2022-01-23T08:55:01.858907",
     "exception": false,
     "start_time": "2022-01-23T08:55:01.810199",
     "status": "completed"
    },
    "tags": []
   },
   "source": [
    "**Insights:**\n",
    "1. R&D and Marketing has nearly 0 p-value what implies statistical significance.\n",
    "2. On the other hand Administration seems to have no effect in predicting the Profit, as we previously seen from correlation as well.\n",
    "3. We are going to drop Administration column as it has no statistical significance in our model."
   ]
  },
  {
   "cell_type": "code",
   "execution_count": 24,
   "id": "d277e168",
   "metadata": {
    "execution": {
     "iopub.execute_input": "2022-01-23T08:55:01.961974Z",
     "iopub.status.busy": "2022-01-23T08:55:01.961318Z",
     "iopub.status.idle": "2022-01-23T08:55:01.964169Z",
     "shell.execute_reply": "2022-01-23T08:55:01.963766Z",
     "shell.execute_reply.started": "2022-01-23T08:52:29.063564Z"
    },
    "papermill": {
     "duration": 0.056825,
     "end_time": "2022-01-23T08:55:01.964277",
     "exception": false,
     "start_time": "2022-01-23T08:55:01.907452",
     "status": "completed"
    },
    "tags": []
   },
   "outputs": [],
   "source": [
    "X = X.drop(columns=\"Administration\")"
   ]
  },
  {
   "cell_type": "markdown",
   "id": "8d1ea2a8",
   "metadata": {
    "papermill": {
     "duration": 0.049381,
     "end_time": "2022-01-23T08:55:02.062419",
     "exception": false,
     "start_time": "2022-01-23T08:55:02.013038",
     "status": "completed"
    },
    "tags": []
   },
   "source": [
    "## Splitting the Data into Training and Testing Sets"
   ]
  },
  {
   "cell_type": "code",
   "execution_count": 25,
   "id": "0fb4a20a",
   "metadata": {
    "execution": {
     "iopub.execute_input": "2022-01-23T08:55:02.168944Z",
     "iopub.status.busy": "2022-01-23T08:55:02.168329Z",
     "iopub.status.idle": "2022-01-23T08:55:02.171598Z",
     "shell.execute_reply": "2022-01-23T08:55:02.171187Z",
     "shell.execute_reply.started": "2022-01-23T08:52:29.080318Z"
    },
    "papermill": {
     "duration": 0.060324,
     "end_time": "2022-01-23T08:55:02.171733",
     "exception": false,
     "start_time": "2022-01-23T08:55:02.111409",
     "status": "completed"
    },
    "tags": []
   },
   "outputs": [],
   "source": [
    "X_train, X_test, y_train, y_test = train_test_split(X, y, test_size=0.33, random_state=6)"
   ]
  },
  {
   "cell_type": "code",
   "execution_count": 26,
   "id": "d52944be",
   "metadata": {
    "execution": {
     "iopub.execute_input": "2022-01-23T08:55:02.273945Z",
     "iopub.status.busy": "2022-01-23T08:55:02.273145Z",
     "iopub.status.idle": "2022-01-23T08:55:02.279022Z",
     "shell.execute_reply": "2022-01-23T08:55:02.278325Z",
     "shell.execute_reply.started": "2022-01-23T08:52:29.101578Z"
    },
    "papermill": {
     "duration": 0.058809,
     "end_time": "2022-01-23T08:55:02.279174",
     "exception": false,
     "start_time": "2022-01-23T08:55:02.220365",
     "status": "completed"
    },
    "tags": []
   },
   "outputs": [
    {
     "name": "stdout",
     "output_type": "stream",
     "text": [
      "Train Florida: 0.3125\n",
      "Test Florida: 0.35294117647058826\n",
      "Train Marketing: 235405.88625\n",
      "Test Marketing: 174887.8511764706\n"
     ]
    }
   ],
   "source": [
    "#Checking if the split has approximately equal distributions of values\n",
    "print(f\"Train Florida: {X_train['Florida'].mean()}\")\n",
    "print(f\"Test Florida: {X_test['Florida'].mean()}\")\n",
    "print(f\"Train Marketing: {X_train['Marketing'].mean()}\")\n",
    "print(f\"Test Marketing: {X_test['Marketing'].mean()}\")"
   ]
  },
  {
   "cell_type": "markdown",
   "id": "463cf003",
   "metadata": {
    "papermill": {
     "duration": 0.05509,
     "end_time": "2022-01-23T08:55:02.388167",
     "exception": false,
     "start_time": "2022-01-23T08:55:02.333077",
     "status": "completed"
    },
    "tags": []
   },
   "source": [
    "## Scaling the Features"
   ]
  },
  {
   "cell_type": "code",
   "execution_count": 27,
   "id": "e809a31a",
   "metadata": {
    "execution": {
     "iopub.execute_input": "2022-01-23T08:55:02.510095Z",
     "iopub.status.busy": "2022-01-23T08:55:02.508426Z",
     "iopub.status.idle": "2022-01-23T08:55:02.510755Z",
     "shell.execute_reply": "2022-01-23T08:55:02.511201Z",
     "shell.execute_reply.started": "2022-01-23T08:52:29.125954Z"
    },
    "papermill": {
     "duration": 0.063219,
     "end_time": "2022-01-23T08:55:02.511336",
     "exception": false,
     "start_time": "2022-01-23T08:55:02.448117",
     "status": "completed"
    },
    "tags": []
   },
   "outputs": [],
   "source": [
    "#scaling inputs\n",
    "sc_x = StandardScaler()\n",
    "X_train = sc_x.fit_transform(X_train)\n",
    "X_test = sc_x.transform(X_test)\n",
    "#scaling target variable\n",
    "sc_y = StandardScaler()\n",
    "y_train = sc_y.fit_transform(y_train.values.reshape(-1, 1))\n",
    "y_test = sc_y.transform(y_test.values.reshape(-1, 1))"
   ]
  },
  {
   "cell_type": "code",
   "execution_count": 28,
   "id": "32d0ac40",
   "metadata": {
    "execution": {
     "iopub.execute_input": "2022-01-23T08:55:02.695363Z",
     "iopub.status.busy": "2022-01-23T08:55:02.692812Z",
     "iopub.status.idle": "2022-01-23T08:55:02.696428Z",
     "shell.execute_reply": "2022-01-23T08:55:02.694057Z",
     "shell.execute_reply.started": "2022-01-23T08:52:29.145462Z"
    },
    "papermill": {
     "duration": 0.102911,
     "end_time": "2022-01-23T08:55:02.696598",
     "exception": false,
     "start_time": "2022-01-23T08:55:02.593687",
     "status": "completed"
    },
    "tags": []
   },
   "outputs": [],
   "source": [
    "y_train = y_train.reshape(32)\n",
    "y_test = y_test.reshape(17)"
   ]
  },
  {
   "cell_type": "markdown",
   "id": "57c16d77",
   "metadata": {
    "papermill": {
     "duration": 0.081679,
     "end_time": "2022-01-23T08:55:02.862366",
     "exception": false,
     "start_time": "2022-01-23T08:55:02.780687",
     "status": "completed"
    },
    "tags": []
   },
   "source": [
    "# 4. Model Selection and Evaluation"
   ]
  },
  {
   "cell_type": "markdown",
   "id": "6b232865",
   "metadata": {
    "papermill": {
     "duration": 0.081373,
     "end_time": "2022-01-23T08:55:03.025900",
     "exception": false,
     "start_time": "2022-01-23T08:55:02.944527",
     "status": "completed"
    },
    "tags": []
   },
   "source": [
    "## Multiple Linear regression"
   ]
  },
  {
   "cell_type": "code",
   "execution_count": 29,
   "id": "42253cae",
   "metadata": {
    "execution": {
     "iopub.execute_input": "2022-01-23T08:55:03.170945Z",
     "iopub.status.busy": "2022-01-23T08:55:03.169802Z",
     "iopub.status.idle": "2022-01-23T08:55:03.176261Z",
     "shell.execute_reply": "2022-01-23T08:55:03.176690Z",
     "shell.execute_reply.started": "2022-01-23T08:52:29.170180Z"
    },
    "papermill": {
     "duration": 0.068825,
     "end_time": "2022-01-23T08:55:03.176830",
     "exception": false,
     "start_time": "2022-01-23T08:55:03.108005",
     "status": "completed"
    },
    "tags": []
   },
   "outputs": [
    {
     "data": {
      "text/plain": [
       "[0.9484473292910411, 0.8740499826901039, 0.6029774988290402]"
      ]
     },
     "execution_count": 29,
     "metadata": {},
     "output_type": "execute_result"
    }
   ],
   "source": [
    "Rsqr_test = []\n",
    "order = range(1,4)\n",
    "for n in order:\n",
    "    pr = PolynomialFeatures(degree=n)\n",
    "    X_train_poly = pr.fit_transform(X_train)\n",
    "    X_test_poly = pr.fit_transform(X_test)\n",
    "    lr = LinearRegression()\n",
    "    lr.fit(X_train_poly, y_train)\n",
    "    Rsqr_test.append(lr.score(X_test_poly, y_test))\n",
    "Rsqr_test"
   ]
  },
  {
   "cell_type": "code",
   "execution_count": 30,
   "id": "bf6d2f68",
   "metadata": {
    "execution": {
     "iopub.execute_input": "2022-01-23T08:55:03.292799Z",
     "iopub.status.busy": "2022-01-23T08:55:03.287925Z",
     "iopub.status.idle": "2022-01-23T08:55:03.514905Z",
     "shell.execute_reply": "2022-01-23T08:55:03.514327Z",
     "shell.execute_reply.started": "2022-01-23T08:52:29.196116Z"
    },
    "papermill": {
     "duration": 0.287926,
     "end_time": "2022-01-23T08:55:03.515041",
     "exception": false,
     "start_time": "2022-01-23T08:55:03.227115",
     "status": "completed"
    },
    "tags": []
   },
   "outputs": [
    {
     "data": {
      "image/png": "[encoded data removed]",
      "text/plain": [
       "<Figure size 432x288 with 1 Axes>"
      ]
     },
     "metadata": {},
     "output_type": "display_data"
    }
   ],
   "source": [
    "plt.plot(Rsqr_test)\n",
    "plt.show()"
   ]
  },
  {
   "cell_type": "markdown",
   "id": "9ef6a9fa",
   "metadata": {
    "papermill": {
     "duration": 0.051506,
     "end_time": "2022-01-23T08:55:03.616891",
     "exception": false,
     "start_time": "2022-01-23T08:55:03.565385",
     "status": "completed"
    },
    "tags": []
   },
   "source": [
    "## Support Vector regression"
   ]
  },
  {
   "cell_type": "code",
   "execution_count": 31,
   "id": "7bd0ff50",
   "metadata": {
    "execution": {
     "iopub.execute_input": "2022-01-23T08:55:03.727780Z",
     "iopub.status.busy": "2022-01-23T08:55:03.727185Z",
     "iopub.status.idle": "2022-01-23T08:55:03.732687Z",
     "shell.execute_reply": "2022-01-23T08:55:03.732238Z",
     "shell.execute_reply.started": "2022-01-23T08:52:29.540947Z"
    },
    "papermill": {
     "duration": 0.064093,
     "end_time": "2022-01-23T08:55:03.732814",
     "exception": false,
     "start_time": "2022-01-23T08:55:03.668721",
     "status": "completed"
    },
    "tags": []
   },
   "outputs": [
    {
     "data": {
      "text/plain": [
       "0.8110028798022219"
      ]
     },
     "execution_count": 31,
     "metadata": {},
     "output_type": "execute_result"
    }
   ],
   "source": [
    "svr = SVR()\n",
    "svr.fit(X_train, y_train)\n",
    "svr.score(X_test, y_test)"
   ]
  },
  {
   "cell_type": "markdown",
   "id": "7822a7c0",
   "metadata": {
    "papermill": {
     "duration": 0.051987,
     "end_time": "2022-01-23T08:55:03.836510",
     "exception": false,
     "start_time": "2022-01-23T08:55:03.784523",
     "status": "completed"
    },
    "tags": []
   },
   "source": [
    "## Decision Tree regression"
   ]
  },
  {
   "cell_type": "code",
   "execution_count": 32,
   "id": "bb967fef",
   "metadata": {
    "execution": {
     "iopub.execute_input": "2022-01-23T08:55:03.945343Z",
     "iopub.status.busy": "2022-01-23T08:55:03.944485Z",
     "iopub.status.idle": "2022-01-23T08:55:03.949576Z",
     "shell.execute_reply": "2022-01-23T08:55:03.950016Z",
     "shell.execute_reply.started": "2022-01-23T08:52:29.552855Z"
    },
    "papermill": {
     "duration": 0.062873,
     "end_time": "2022-01-23T08:55:03.950170",
     "exception": false,
     "start_time": "2022-01-23T08:55:03.887297",
     "status": "completed"
    },
    "tags": []
   },
   "outputs": [
    {
     "data": {
      "text/plain": [
       "0.8900387438500195"
      ]
     },
     "execution_count": 32,
     "metadata": {},
     "output_type": "execute_result"
    }
   ],
   "source": [
    "dt = DecisionTreeRegressor()\n",
    "dt.fit(X_train, y_train)\n",
    "dt.score(X_test, y_test)"
   ]
  },
  {
   "cell_type": "markdown",
   "id": "050e7283",
   "metadata": {
    "papermill": {
     "duration": 0.05138,
     "end_time": "2022-01-23T08:55:04.054517",
     "exception": false,
     "start_time": "2022-01-23T08:55:04.003137",
     "status": "completed"
    },
    "tags": []
   },
   "source": [
    "## Random Forest regression"
   ]
  },
  {
   "cell_type": "code",
   "execution_count": 33,
   "id": "e59660a0",
   "metadata": {
    "execution": {
     "iopub.execute_input": "2022-01-23T08:55:04.193094Z",
     "iopub.status.busy": "2022-01-23T08:55:04.182716Z",
     "iopub.status.idle": "2022-01-23T08:55:04.312919Z",
     "shell.execute_reply": "2022-01-23T08:55:04.312423Z",
     "shell.execute_reply.started": "2022-01-23T08:52:29.577587Z"
    },
    "papermill": {
     "duration": 0.206897,
     "end_time": "2022-01-23T08:55:04.313043",
     "exception": false,
     "start_time": "2022-01-23T08:55:04.106146",
     "status": "completed"
    },
    "tags": []
   },
   "outputs": [
    {
     "data": {
      "text/plain": [
       "0.917982416292364"
      ]
     },
     "execution_count": 33,
     "metadata": {},
     "output_type": "execute_result"
    }
   ],
   "source": [
    "rf = RandomForestRegressor()\n",
    "rf.fit(X_train, y_train)\n",
    "rf.score(X_test, y_test)"
   ]
  },
  {
   "cell_type": "markdown",
   "id": "bf7dc8db",
   "metadata": {
    "papermill": {
     "duration": 0.051247,
     "end_time": "2022-01-23T08:55:04.417182",
     "exception": false,
     "start_time": "2022-01-23T08:55:04.365935",
     "status": "completed"
    },
    "tags": []
   },
   "source": [
    "#### The best performing model is Multiple Linear Regression."
   ]
  },
  {
   "cell_type": "code",
   "execution_count": 34,
   "id": "60eb3b4b",
   "metadata": {
    "execution": {
     "iopub.execute_input": "2022-01-23T08:55:04.526816Z",
     "iopub.status.busy": "2022-01-23T08:55:04.525229Z",
     "iopub.status.idle": "2022-01-23T08:55:04.527387Z",
     "shell.execute_reply": "2022-01-23T08:55:04.527805Z",
     "shell.execute_reply.started": "2022-01-23T08:52:29.740297Z"
    },
    "papermill": {
     "duration": 0.059592,
     "end_time": "2022-01-23T08:55:04.527934",
     "exception": false,
     "start_time": "2022-01-23T08:55:04.468342",
     "status": "completed"
    },
    "tags": []
   },
   "outputs": [],
   "source": [
    "lr = LinearRegression()\n",
    "lr.fit(X_train, y_train)\n",
    "r2_score = lr.score(X_test, y_test)"
   ]
  },
  {
   "cell_type": "code",
   "execution_count": 35,
   "id": "804a80cd",
   "metadata": {
    "execution": {
     "iopub.execute_input": "2022-01-23T08:55:04.635658Z",
     "iopub.status.busy": "2022-01-23T08:55:04.635122Z",
     "iopub.status.idle": "2022-01-23T08:55:04.640396Z",
     "shell.execute_reply": "2022-01-23T08:55:04.639988Z",
     "shell.execute_reply.started": "2022-01-23T08:52:29.759481Z"
    },
    "papermill": {
     "duration": 0.061083,
     "end_time": "2022-01-23T08:55:04.640503",
     "exception": false,
     "start_time": "2022-01-23T08:55:04.579420",
     "status": "completed"
    },
    "tags": []
   },
   "outputs": [
    {
     "data": {
      "text/plain": [
       "0.9312631057213885"
      ]
     },
     "execution_count": 35,
     "metadata": {},
     "output_type": "execute_result"
    }
   ],
   "source": [
    "# Adjusted R-square of the model\n",
    "n = X_test.shape[0]\n",
    "p = X_test.shape[1]\n",
    "\n",
    "adjusted_r2 = 1-(1-r2_score)*(n-1)/(n-p-1)\n",
    "adjusted_r2"
   ]
  },
  {
   "cell_type": "markdown",
   "id": "ef413aef",
   "metadata": {
    "papermill": {
     "duration": 0.051347,
     "end_time": "2022-01-23T08:55:04.742750",
     "exception": false,
     "start_time": "2022-01-23T08:55:04.691403",
     "status": "completed"
    },
    "tags": []
   },
   "source": [
    "# 5. Residuals analysis"
   ]
  },
  {
   "cell_type": "code",
   "execution_count": 36,
   "id": "215f9c90",
   "metadata": {
    "execution": {
     "iopub.execute_input": "2022-01-23T08:55:04.850385Z",
     "iopub.status.busy": "2022-01-23T08:55:04.849543Z",
     "iopub.status.idle": "2022-01-23T08:55:04.851399Z",
     "shell.execute_reply": "2022-01-23T08:55:04.851861Z",
     "shell.execute_reply.started": "2022-01-23T08:52:29.779473Z"
    },
    "papermill": {
     "duration": 0.057874,
     "end_time": "2022-01-23T08:55:04.852000",
     "exception": false,
     "start_time": "2022-01-23T08:55:04.794126",
     "status": "completed"
    },
    "tags": []
   },
   "outputs": [],
   "source": [
    "y_test_hat = lr.predict(X_test)"
   ]
  },
  {
   "cell_type": "code",
   "execution_count": 37,
   "id": "16d37ef8",
   "metadata": {
    "execution": {
     "iopub.execute_input": "2022-01-23T08:55:04.972254Z",
     "iopub.status.busy": "2022-01-23T08:55:04.971454Z",
     "iopub.status.idle": "2022-01-23T08:55:05.162525Z",
     "shell.execute_reply": "2022-01-23T08:55:05.163101Z",
     "shell.execute_reply.started": "2022-01-23T08:52:29.802168Z"
    },
    "papermill": {
     "duration": 0.258659,
     "end_time": "2022-01-23T08:55:05.163254",
     "exception": false,
     "start_time": "2022-01-23T08:55:04.904595",
     "status": "completed"
    },
    "tags": []
   },
   "outputs": [
    {
     "data": {
      "image/png": "[encoded data removed]",
      "text/plain": [
       "<Figure size 432x288 with 1 Axes>"
      ]
     },
     "metadata": {},
     "output_type": "display_data"
    }
   ],
   "source": [
    "plt.scatter(x=y_test, y=y_test_hat, alpha=0.8)\n",
    "plt.plot(y_test, y_test, color='darkgreen')\n",
    "plt.show()"
   ]
  },
  {
   "cell_type": "code",
   "execution_count": 38,
   "id": "32f3a036",
   "metadata": {
    "execution": {
     "iopub.execute_input": "2022-01-23T08:55:05.271077Z",
     "iopub.status.busy": "2022-01-23T08:55:05.270528Z",
     "iopub.status.idle": "2022-01-23T08:55:05.274272Z",
     "shell.execute_reply": "2022-01-23T08:55:05.273813Z",
     "shell.execute_reply.started": "2022-01-23T08:52:30.076679Z"
    },
    "papermill": {
     "duration": 0.058958,
     "end_time": "2022-01-23T08:55:05.274375",
     "exception": false,
     "start_time": "2022-01-23T08:55:05.215417",
     "status": "completed"
    },
    "tags": []
   },
   "outputs": [],
   "source": [
    "residuals = y_test - y_test_hat"
   ]
  },
  {
   "cell_type": "markdown",
   "id": "bc829d5f",
   "metadata": {
    "papermill": {
     "duration": 0.051823,
     "end_time": "2022-01-23T08:55:05.378000",
     "exception": false,
     "start_time": "2022-01-23T08:55:05.326177",
     "status": "completed"
    },
    "tags": []
   },
   "source": [
    "The errors should not follow any pattern and equally distributed."
   ]
  },
  {
   "cell_type": "code",
   "execution_count": 39,
   "id": "9d875d42",
   "metadata": {
    "execution": {
     "iopub.execute_input": "2022-01-23T08:55:05.501313Z",
     "iopub.status.busy": "2022-01-23T08:55:05.499715Z",
     "iopub.status.idle": "2022-01-23T08:55:05.710778Z",
     "shell.execute_reply": "2022-01-23T08:55:05.710286Z",
     "shell.execute_reply.started": "2022-01-23T08:52:30.085819Z"
    },
    "papermill": {
     "duration": 0.280236,
     "end_time": "2022-01-23T08:55:05.710926",
     "exception": false,
     "start_time": "2022-01-23T08:55:05.430690",
     "status": "completed"
    },
    "tags": []
   },
   "outputs": [
    {
     "data": {
      "image/png": "[encoded data removed]",
      "text/plain": [
       "<Figure size 432x288 with 1 Axes>"
      ]
     },
     "metadata": {},
     "output_type": "display_data"
    }
   ],
   "source": [
    "plt.scatter(y=residuals, x=y_test_hat, alpha=0.8)\n",
    "plt.show()"
   ]
  },
  {
   "cell_type": "code",
   "execution_count": 40,
   "id": "8648b2b9",
   "metadata": {
    "execution": {
     "iopub.execute_input": "2022-01-23T08:55:05.821261Z",
     "iopub.status.busy": "2022-01-23T08:55:05.820507Z",
     "iopub.status.idle": "2022-01-23T08:55:05.823265Z",
     "shell.execute_reply": "2022-01-23T08:55:05.823712Z",
     "shell.execute_reply.started": "2022-01-23T08:52:30.397337Z"
    },
    "papermill": {
     "duration": 0.060008,
     "end_time": "2022-01-23T08:55:05.823839",
     "exception": false,
     "start_time": "2022-01-23T08:55:05.763831",
     "status": "completed"
    },
    "tags": []
   },
   "outputs": [
    {
     "data": {
      "text/plain": [
       "array([ 0.96049786,  0.0109726 , -0.01004952, -0.06425628])"
      ]
     },
     "execution_count": 40,
     "metadata": {},
     "output_type": "execute_result"
    }
   ],
   "source": [
    "lr.coef_"
   ]
  },
  {
   "cell_type": "code",
   "execution_count": 41,
   "id": "3453aa6c",
   "metadata": {
    "execution": {
     "iopub.execute_input": "2022-01-23T08:55:05.934774Z",
     "iopub.status.busy": "2022-01-23T08:55:05.934148Z",
     "iopub.status.idle": "2022-01-23T08:55:05.936771Z",
     "shell.execute_reply": "2022-01-23T08:55:05.937173Z",
     "shell.execute_reply.started": "2022-01-23T08:52:30.421221Z"
    },
    "papermill": {
     "duration": 0.05983,
     "end_time": "2022-01-23T08:55:05.937300",
     "exception": false,
     "start_time": "2022-01-23T08:55:05.877470",
     "status": "completed"
    },
    "tags": []
   },
   "outputs": [
    {
     "data": {
      "text/plain": [
       "-3.7723824852866906e-16"
      ]
     },
     "execution_count": 41,
     "metadata": {},
     "output_type": "execute_result"
    }
   ],
   "source": [
    "lr.intercept_"
   ]
  },
  {
   "cell_type": "markdown",
   "id": "1cb2fcda",
   "metadata": {
    "papermill": {
     "duration": 0.05268,
     "end_time": "2022-01-23T08:55:06.042736",
     "exception": false,
     "start_time": "2022-01-23T08:55:05.990056",
     "status": "completed"
    },
    "tags": []
   },
   "source": [
    "## Our preferred model now has an equation that looks like this:\n",
    "\n",
    "## $$ PROFIT = -3.77 + 0.96 * R&D Spend + 0.01 * Marketing Spend + (-0.01) * Florida + (-0.06) * NewYork $$"
   ]
  },
  {
   "cell_type": "markdown",
   "id": "8554ed41",
   "metadata": {
    "papermill": {
     "duration": 0.052994,
     "end_time": "2022-01-23T08:55:06.148763",
     "exception": false,
     "start_time": "2022-01-23T08:55:06.095769",
     "status": "completed"
    },
    "tags": []
   },
   "source": [
    "Note: Since we scaled the data for modeling, if we want to predict profits, we have to perform inverse_transform() on the predicted values."
   ]
  }
 ],
 "metadata": {
  "kernelspec": {
   "display_name": "Python 3",
   "language": "python",
   "name": "python3"
  },
  "language_info": {
   "codemirror_mode": {
    "name": "ipython",
    "version": 3
   },
   "file_extension": ".py",
   "mimetype": "text/x-python",
   "name": "python",
   "nbconvert_exporter": "python",
   "pygments_lexer": "ipython3",
   "version": "3.7.12"
  },
  "papermill": {
   "default_parameters": {},
   "duration": 25.1626,
   "end_time": "2022-01-23T08:55:06.911947",
   "environment_variables": {},
   "exception": null,
   "input_path": "__notebook__.ipynb",
   "output_path": "__notebook__.ipynb",
   "parameters": {},
   "start_time": "2022-01-23T08:54:41.749347",
   "version": "2.3.3"
  }
 },
 "nbformat": 4,
 "nbformat_minor": 5
}
